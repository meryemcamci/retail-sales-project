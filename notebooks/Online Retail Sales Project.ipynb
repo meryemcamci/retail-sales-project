{
 "cells": [
  {
   "cell_type": "markdown",
   "id": "6d20c0cb-44b2-48ec-8cfa-c8560857f19d",
   "metadata": {},
   "source": [
    "## Visualizing and Predicting Online Retail Sales"
   ]
  },
  {
   "cell_type": "markdown",
   "id": "110df941-359c-4d2b-bf6f-3b94cecb9880",
   "metadata": {},
   "source": [
    "Goal of this project is to investigate and analyze sales trends, customer behavior, and performance of products using the Online Retail II dataset. We will make a **regression analysis** to predict *sales revenue* based on key factors like product type, customer segment, and time. \n",
    "\n",
    "The dataset we are going to use in this project originates from the UCI Machine Learning Repository and has data from online retail company. We will use concatenated form of a unified dataset for 2009-2010 and 2010-2011 time periods. "
   ]
  },
  {
   "cell_type": "code",
   "execution_count": 3,
   "id": "4c1c3d9b-0bc3-4252-b81b-3b100f1f2ae2",
   "metadata": {},
   "outputs": [],
   "source": [
    "import pandas as pd \n",
    "\n",
    "df_2009 = pd.read_excel('online_retail_II 2.xlsx', sheet_name='Year 2009-2010')\n",
    "df_2010 = pd.read_excel('online_retail_II 2.xlsx', sheet_name='Year 2010-2011')\n",
    "\n",
    "retail = pd.concat([df_2009, df_2010], ignore_index=True)"
   ]
  },
  {
   "cell_type": "code",
   "execution_count": 4,
   "id": "e900b5c1-1629-4016-b91f-ff04816e4f4e",
   "metadata": {},
   "outputs": [
    {
     "name": "stdout",
     "output_type": "stream",
     "text": [
      "  Invoice StockCode                          Description  Quantity  \\\n",
      "0  489434     85048  15CM CHRISTMAS GLASS BALL 20 LIGHTS        12   \n",
      "1  489434    79323P                   PINK CHERRY LIGHTS        12   \n",
      "2  489434    79323W                  WHITE CHERRY LIGHTS        12   \n",
      "3  489434     22041         RECORD FRAME 7\" SINGLE SIZE         48   \n",
      "4  489434     21232       STRAWBERRY CERAMIC TRINKET BOX        24   \n",
      "\n",
      "          InvoiceDate  Price  Customer ID         Country  \n",
      "0 2009-12-01 07:45:00   6.95      13085.0  United Kingdom  \n",
      "1 2009-12-01 07:45:00   6.75      13085.0  United Kingdom  \n",
      "2 2009-12-01 07:45:00   6.75      13085.0  United Kingdom  \n",
      "3 2009-12-01 07:45:00   2.10      13085.0  United Kingdom  \n",
      "4 2009-12-01 07:45:00   1.25      13085.0  United Kingdom  \n"
     ]
    }
   ],
   "source": [
    "print(retail.head())"
   ]
  },
  {
   "cell_type": "code",
   "execution_count": 5,
   "id": "1d46aeed-006b-4ffd-b8bd-b69bb71d0437",
   "metadata": {},
   "outputs": [
    {
     "name": "stdout",
     "output_type": "stream",
     "text": [
      "<class 'pandas.core.frame.DataFrame'>\n",
      "RangeIndex: 1067371 entries, 0 to 1067370\n",
      "Data columns (total 8 columns):\n",
      " #   Column       Non-Null Count    Dtype         \n",
      "---  ------       --------------    -----         \n",
      " 0   Invoice      1067371 non-null  object        \n",
      " 1   StockCode    1067371 non-null  object        \n",
      " 2   Description  1062989 non-null  object        \n",
      " 3   Quantity     1067371 non-null  int64         \n",
      " 4   InvoiceDate  1067371 non-null  datetime64[ns]\n",
      " 5   Price        1067371 non-null  float64       \n",
      " 6   Customer ID  824364 non-null   float64       \n",
      " 7   Country      1067371 non-null  object        \n",
      "dtypes: datetime64[ns](1), float64(2), int64(1), object(4)\n",
      "memory usage: 65.1+ MB\n",
      "None\n"
     ]
    }
   ],
   "source": [
    "print(retail.info())"
   ]
  },
  {
   "cell_type": "code",
   "execution_count": 6,
   "id": "53ce8641-a79b-4a49-b567-c08a42407437",
   "metadata": {},
   "outputs": [
    {
     "name": "stdout",
     "output_type": "stream",
     "text": [
      "           Quantity                    InvoiceDate         Price  \\\n",
      "count  1.067371e+06                        1067371  1.067371e+06   \n",
      "mean   9.938898e+00  2011-01-02 21:13:55.394028544  4.649388e+00   \n",
      "min   -8.099500e+04            2009-12-01 07:45:00 -5.359436e+04   \n",
      "25%    1.000000e+00            2010-07-09 09:46:00  1.250000e+00   \n",
      "50%    3.000000e+00            2010-12-07 15:28:00  2.100000e+00   \n",
      "75%    1.000000e+01            2011-07-22 10:23:00  4.150000e+00   \n",
      "max    8.099500e+04            2011-12-09 12:50:00  3.897000e+04   \n",
      "std    1.727058e+02                            NaN  1.235531e+02   \n",
      "\n",
      "         Customer ID  \n",
      "count  824364.000000  \n",
      "mean    15324.638504  \n",
      "min     12346.000000  \n",
      "25%     13975.000000  \n",
      "50%     15255.000000  \n",
      "75%     16797.000000  \n",
      "max     18287.000000  \n",
      "std      1697.464450  \n"
     ]
    }
   ],
   "source": [
    "print(retail.describe())"
   ]
  },
  {
   "cell_type": "markdown",
   "id": "81b2eb99-2cf6-4dad-9fcf-d99a20a1ed47",
   "metadata": {},
   "source": [
    "According to the first impression, we can say that the combined dataset has **1,067,371 rows** and **8 columns**, which have 8 essential variables of the sales transaction:\n",
    "\n",
    "* **Invoice**: Unique identifier of each transaction\n",
    "* **StockCode**: Product identifier\n",
    "* **Description**: Textual description of the product\n",
    "* **Quantity**: Number of units purchased (can be negative for returns)\n",
    "* **InvoiceDate**: Timestamp of the transaction\n",
    "* **Price**: Unit price of the item\n",
    "* **Customer ID**: Identifier of the customer (nullable)\n",
    "* **Country**: Country of the customer\n",
    "\n",
    "When we look at info() output we can see that most of the columns are complete except for the Customer ID column which contains almost **23% missing values**. During the cleaning stage of the data, this should be considered. InvoiceDate column is already in datetime format, which allows us to do time-based analysis. \n",
    "\n",
    "Another thing we should be careful when we look at describe() output, is **Quantity** and **Price** columns contain **negative values**, seems like data errors or may represent the return orders. These will be handled during data cleaning. "
   ]
  },
  {
   "cell_type": "markdown",
   "id": "590c083d-6345-4c3e-a397-6b90be819a1c",
   "metadata": {},
   "source": [
    "### Data Cleaning "
   ]
  },
  {
   "cell_type": "markdown",
   "id": "329307d7-daf7-4d00-9b8f-d9f4405c5f94",
   "metadata": {},
   "source": [
    "In this part, I will analyze the missing values, clean the negative values. Also, I will make **new column** called **TotalPrice** from **Quantity** and **Price** columns to keep track the total value of the sales. \n",
    "Another thing I will add is date features which will help me to analyze the dataset according to year and month.\n",
    "Finally, I will clean the Description column if it is needed. "
   ]
  },
  {
   "cell_type": "code",
   "execution_count": 10,
   "id": "71493b0f-89f9-4ce9-9ace-4260db33978d",
   "metadata": {},
   "outputs": [
    {
     "name": "stdout",
     "output_type": "stream",
     "text": [
      "Description      4382\n",
      "Customer ID    243007\n",
      "dtype: int64\n"
     ]
    }
   ],
   "source": [
    "missing_values = retail.isnull().sum()\n",
    "print(missing_values[missing_values > 0])"
   ]
  },
  {
   "cell_type": "markdown",
   "id": "d625337e-68e7-49e7-aca6-cca369c6f203",
   "metadata": {},
   "source": [
    "So, now we can see that columns **Description** and **Customer ID** have missing values. Because **Customer ID** column is really crucial variable for any customer type analysis, I will **drop all the missing rows** in Customer ID column. Although it will reduce the dataset size, it will ensure that our analysis remains meaningful. On the other hand, since the **Description** column has only few missing data, so I will drop those rows as well."
   ]
  },
  {
   "cell_type": "code",
   "execution_count": 12,
   "id": "1735b30a-1a20-42e1-822e-6bc81d84e062",
   "metadata": {},
   "outputs": [],
   "source": [
    "retail = retail.dropna(subset=['Customer ID', 'Description'])"
   ]
  },
  {
   "cell_type": "code",
   "execution_count": 13,
   "id": "d303e395-1d47-4f63-9a1d-5e2318728a0a",
   "metadata": {},
   "outputs": [],
   "source": [
    "retail = retail[(retail['Quantity'] > 0) & (retail['Price'] > 0)]\n",
    "# It's gonna keep only the positive quantity and price "
   ]
  },
  {
   "cell_type": "code",
   "execution_count": 14,
   "id": "ae92df2b-19e3-4be3-b4be-1d3ecab7a2eb",
   "metadata": {},
   "outputs": [],
   "source": [
    "retail['Total Price'] = retail['Quantity'] * retail['Price']"
   ]
  },
  {
   "cell_type": "code",
   "execution_count": 15,
   "id": "e651b56c-fe3e-42f2-ae48-cbad4d1d6147",
   "metadata": {},
   "outputs": [
    {
     "name": "stdout",
     "output_type": "stream",
     "text": [
      "   Quantity  Price  Total Price\n",
      "0        12   6.95         83.4\n",
      "1        12   6.75         81.0\n",
      "2        12   6.75         81.0\n",
      "3        48   2.10        100.8\n",
      "4        24   1.25         30.0\n"
     ]
    }
   ],
   "source": [
    "print(retail[['Quantity', 'Price', 'Total Price']].head())"
   ]
  },
  {
   "cell_type": "markdown",
   "id": "d8249dcf-e3b5-477e-96ed-e97cd93cc22f",
   "metadata": {},
   "source": [
    "After cleaning missing values and negative values, I created a nwe column as TotalPrice to keep track of the total revenue performance. "
   ]
  },
  {
   "cell_type": "markdown",
   "id": "4c9590c4-a5a7-4ff4-8672-4b80e25b4f29",
   "metadata": {},
   "source": [
    "### Feature Engineering: Date-Based Fields\n",
    "\n",
    "To make a time-based analysis in Tableau, I used InvoiceDate column to create several data-related columns. These fields will be helpful to analyze trends over year, month, and daily basis. So we can follow revenue and customer behavior over time and can keep track for the seasonality. "
   ]
  },
  {
   "cell_type": "code",
   "execution_count": 18,
   "id": "df4223b7-f894-41e3-8714-13aa66d8149c",
   "metadata": {},
   "outputs": [],
   "source": [
    "# For year information\n",
    "retail['Year'] = retail['InvoiceDate'].dt.year\n",
    "\n",
    "# For month information\n",
    "retail['Month'] = retail['InvoiceDate'].dt.month\n",
    "\n",
    "# Year-Month type of new column such as 2012-09\n",
    "retail['YearMonth'] = retail['InvoiceDate'].dt.to_period('M')\n",
    "\n",
    "# For daily base analysis \n",
    "retail['Day'] = retail['InvoiceDate'].dt.day\n",
    "\n",
    "# For the weekday type of analysis \n",
    "retail['Weekday'] = retail['InvoiceDate'].dt.weekday"
   ]
  },
  {
   "cell_type": "code",
   "execution_count": 19,
   "id": "506737aa-a91d-4598-8ecf-06f7c0d4dd1d",
   "metadata": {},
   "outputs": [
    {
     "name": "stdout",
     "output_type": "stream",
     "text": [
      "          InvoiceDate  Year  Month YearMonth\n",
      "0 2009-12-01 07:45:00  2009     12   2009-12\n",
      "1 2009-12-01 07:45:00  2009     12   2009-12\n",
      "2 2009-12-01 07:45:00  2009     12   2009-12\n",
      "3 2009-12-01 07:45:00  2009     12   2009-12\n",
      "4 2009-12-01 07:45:00  2009     12   2009-12\n"
     ]
    }
   ],
   "source": [
    "print(retail[['InvoiceDate', 'Year', 'Month', 'YearMonth']].head())"
   ]
  },
  {
   "cell_type": "markdown",
   "id": "cc248b35-9b58-4a8f-b1c8-e3fa492af3d7",
   "metadata": {},
   "source": [
    "### Exporting Cleaned and Prepared Dataset"
   ]
  },
  {
   "cell_type": "code",
   "execution_count": 21,
   "id": "c2e45462-2fc0-4a4d-a371-17188cd64d94",
   "metadata": {},
   "outputs": [],
   "source": [
    "retail.to_csv('cleaned_online_retail.csv', index=False)"
   ]
  }
 ],
 "metadata": {
  "kernelspec": {
   "display_name": "Python 3 (ipykernel)",
   "language": "python",
   "name": "python3"
  },
  "language_info": {
   "codemirror_mode": {
    "name": "ipython",
    "version": 3
   },
   "file_extension": ".py",
   "mimetype": "text/x-python",
   "name": "python",
   "nbconvert_exporter": "python",
   "pygments_lexer": "ipython3",
   "version": "3.11.7"
  }
 },
 "nbformat": 4,
 "nbformat_minor": 5
}
